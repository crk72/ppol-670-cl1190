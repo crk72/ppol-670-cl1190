{
 "cells": [
  {
   "cell_type": "code",
   "execution_count": 1,
   "metadata": {},
   "outputs": [],
   "source": [
    "# Pre-work: Staging my Environment\n",
    "\n",
    "import numpy as np\n",
    "import pandas as pd\n",
    "import seaborn as sns\n",
    "import matplotlib.pyplot as plt\n",
    "from sklearn.linear_model import LinearRegression"
   ]
  },
  {
   "cell_type": "code",
   "execution_count": 2,
   "metadata": {},
   "outputs": [
    {
     "data": {
      "text/html": [
       "<div>\n",
       "<style scoped>\n",
       "    .dataframe tbody tr th:only-of-type {\n",
       "        vertical-align: middle;\n",
       "    }\n",
       "\n",
       "    .dataframe tbody tr th {\n",
       "        vertical-align: top;\n",
       "    }\n",
       "\n",
       "    .dataframe thead th {\n",
       "        text-align: right;\n",
       "    }\n",
       "</style>\n",
       "<table border=\"1\" class=\"dataframe\">\n",
       "  <thead>\n",
       "    <tr style=\"text-align: right;\">\n",
       "      <th></th>\n",
       "      <th>adult_pop</th>\n",
       "      <th>female_pop</th>\n",
       "      <th>male_pop</th>\n",
       "      <th>median_age</th>\n",
       "      <th>population</th>\n",
       "      <th>pct_poverty</th>\n",
       "      <th>median_income</th>\n",
       "      <th>pct_highschool</th>\n",
       "      <th>pct_unemployed</th>\n",
       "    </tr>\n",
       "    <tr>\n",
       "      <th>fips</th>\n",
       "      <th></th>\n",
       "      <th></th>\n",
       "      <th></th>\n",
       "      <th></th>\n",
       "      <th></th>\n",
       "      <th></th>\n",
       "      <th></th>\n",
       "      <th></th>\n",
       "      <th></th>\n",
       "    </tr>\n",
       "  </thead>\n",
       "  <tbody>\n",
       "    <tr>\n",
       "      <th>1001</th>\n",
       "      <td>41890.0</td>\n",
       "      <td>28422.0</td>\n",
       "      <td>26994.0</td>\n",
       "      <td>38.6</td>\n",
       "      <td>55416.0</td>\n",
       "      <td>13.5</td>\n",
       "      <td>54487.0</td>\n",
       "      <td>87.6</td>\n",
       "      <td>3.4</td>\n",
       "    </tr>\n",
       "    <tr>\n",
       "      <th>1003</th>\n",
       "      <td>163233.0</td>\n",
       "      <td>107322.0</td>\n",
       "      <td>101241.0</td>\n",
       "      <td>42.9</td>\n",
       "      <td>208563.0</td>\n",
       "      <td>11.7</td>\n",
       "      <td>56460.0</td>\n",
       "      <td>90.0</td>\n",
       "      <td>3.7</td>\n",
       "    </tr>\n",
       "    <tr>\n",
       "      <th>1005</th>\n",
       "      <td>20477.0</td>\n",
       "      <td>12186.0</td>\n",
       "      <td>13779.0</td>\n",
       "      <td>40.1</td>\n",
       "      <td>25965.0</td>\n",
       "      <td>29.9</td>\n",
       "      <td>32884.0</td>\n",
       "      <td>73.8</td>\n",
       "      <td>6.2</td>\n",
       "    </tr>\n",
       "    <tr>\n",
       "      <th>1007</th>\n",
       "      <td>17944.0</td>\n",
       "      <td>10498.0</td>\n",
       "      <td>12145.0</td>\n",
       "      <td>39.6</td>\n",
       "      <td>22643.0</td>\n",
       "      <td>20.1</td>\n",
       "      <td>43079.0</td>\n",
       "      <td>80.7</td>\n",
       "      <td>3.5</td>\n",
       "    </tr>\n",
       "    <tr>\n",
       "      <th>1009</th>\n",
       "      <td>44322.0</td>\n",
       "      <td>29206.0</td>\n",
       "      <td>28498.0</td>\n",
       "      <td>41.1</td>\n",
       "      <td>57704.0</td>\n",
       "      <td>14.1</td>\n",
       "      <td>47213.0</td>\n",
       "      <td>80.0</td>\n",
       "      <td>3.0</td>\n",
       "    </tr>\n",
       "  </tbody>\n",
       "</table>\n",
       "</div>"
      ],
      "text/plain": [
       "      adult_pop  female_pop  male_pop  median_age  population  pct_poverty  \\\n",
       "fips                                                                         \n",
       "1001    41890.0     28422.0   26994.0        38.6     55416.0         13.5   \n",
       "1003   163233.0    107322.0  101241.0        42.9    208563.0         11.7   \n",
       "1005    20477.0     12186.0   13779.0        40.1     25965.0         29.9   \n",
       "1007    17944.0     10498.0   12145.0        39.6     22643.0         20.1   \n",
       "1009    44322.0     29206.0   28498.0        41.1     57704.0         14.1   \n",
       "\n",
       "      median_income  pct_highschool  pct_unemployed  \n",
       "fips                                                 \n",
       "1001        54487.0            87.6             3.4  \n",
       "1003        56460.0            90.0             3.7  \n",
       "1005        32884.0            73.8             6.2  \n",
       "1007        43079.0            80.7             3.5  \n",
       "1009        47213.0            80.0             3.0  "
      ]
     },
     "execution_count": 2,
     "metadata": {},
     "output_type": "execute_result"
    }
   ],
   "source": [
    "# Question 1: Create dataframe object from .csv file\n",
    "\n",
    "cdemo16 = pd.read_csv('county_demographics_2016.csv', sep=',', header=0, index_col=0)\n",
    "\n",
    "# Question 1: Display first 5 rows of dataframe object\n",
    "cdemo16[0:5]"
   ]
  },
  {
   "cell_type": "code",
   "execution_count": 3,
   "metadata": {},
   "outputs": [],
   "source": [
    "# QA -- Cleaning Data, Missing & Infinite Values\n",
    "\n",
    "# Check for missing values\n",
    "# print(pd.isnull(cdemo16).sum())\n",
    "\n",
    "# Check for infinity\n",
    "# print(np.isfinite(cdemo16).all())\n",
    "\n",
    "# QA Results: Replace infinite values with NaN\n",
    "\n",
    "cdemo16.replace([np.inf, -np.inf], np.nan)\n",
    "\n",
    "# QA Results: Drop missing values/NaN\n",
    "\n",
    "modcdemo16 = cdemo16.dropna()\n",
    "\n",
    "# QA Results: Check New DataFrame\n",
    "# print(pd.isnull(modcdemo16).sum())\n",
    "# print(np.isfinite(modcdemo16).all())"
   ]
  },
  {
   "cell_type": "code",
   "execution_count": 4,
   "metadata": {},
   "outputs": [
    {
     "data": {
      "image/png": "[encoded data removed]",
      "text/plain": [
       "<Figure size 432x288 with 1 Axes>"
      ]
     },
     "metadata": {},
     "output_type": "display_data"
    }
   ],
   "source": [
    "# Question 2: Data Visualization: Creating scatterplot variables\n",
    "pctHS = modcdemo16.pct_highschool\n",
    "medinc = modcdemo16.median_income\n",
    "\n",
    "# Question 2: Data Visualization: Creation of scatterplot demonstrating relationship between median income & percentage of high school graduates\n",
    "plt.scatter(pctHS, medinc)\n",
    "plt.xlabel(\"Percentage of High School Graduates\")\n",
    "plt.ylabel(\"Median Income\")\n",
    "plt.show()"
   ]
  },
  {
   "cell_type": "code",
   "execution_count": 5,
   "metadata": {},
   "outputs": [],
   "source": [
    "# Question 3: Data visualizaton: Create new variable (natural log of median income)\n",
    "lnmedinc = np.log(medinc)"
   ]
  },
  {
   "cell_type": "code",
   "execution_count": 6,
   "metadata": {},
   "outputs": [
    {
     "data": {
      "image/png": "[encoded data removed]",
      "text/plain": [
       "<Figure size 432x288 with 1 Axes>"
      ]
     },
     "metadata": {},
     "output_type": "display_data"
    }
   ],
   "source": [
    "# Question 3: Creation of new scatterplot\n",
    "plt.scatter(pctHS, lnmedinc)\n",
    "plt.xlabel(\"Percentage of High School Graduates\")\n",
    "plt.ylabel(\"Median Income (natural log)\")\n",
    "plt.show()"
   ]
  },
  {
   "cell_type": "markdown",
   "metadata": {},
   "source": [
    "## Relationship between percentage of high school graduates and median income\n",
    "\n",
    "The transformation of variable 'medinc' to log variable 'lnmedinc' highlights a linear pattern in the relationship between median income and percentage of high school graduates from a given area. The relationship appears to be a positively correlated relationship. Put another way, the relationship is that the median income of a given area is high where the percentage of high school graduates is also high, and low where the percentage is low. "
   ]
  },
  {
   "cell_type": "code",
   "execution_count": 7,
   "metadata": {},
   "outputs": [
    {
     "data": {
      "text/plain": [
       "(3140, 1)"
      ]
     },
     "execution_count": 7,
     "metadata": {},
     "output_type": "execute_result"
    }
   ],
   "source": [
    "#Question 4: Creating a feature matrix and target array\n",
    "pct = pctHS[:, np.newaxis]\n",
    "pct.shape"
   ]
  },
  {
   "cell_type": "code",
   "execution_count": 19,
   "metadata": {},
   "outputs": [
    {
     "data": {
      "text/plain": [
       "(3140,)"
      ]
     },
     "execution_count": 19,
     "metadata": {},
     "output_type": "execute_result"
    }
   ],
   "source": [
    "lnmedinc.shape"
   ]
  },
  {
   "cell_type": "code",
   "execution_count": 9,
   "metadata": {},
   "outputs": [
    {
     "data": {
      "text/plain": [
       "LinearRegression(copy_X=True, fit_intercept=True, n_jobs=1, normalize=False)"
      ]
     },
     "execution_count": 9,
     "metadata": {},
     "output_type": "execute_result"
    }
   ],
   "source": [
    "#Question 5: Creating a linear regression model with an intercept\n",
    "model = LinearRegression(fit_intercept=True)\n",
    "model"
   ]
  },
  {
   "cell_type": "code",
   "execution_count": 10,
   "metadata": {},
   "outputs": [
    {
     "data": {
      "text/plain": [
       "LinearRegression(copy_X=True, fit_intercept=True, n_jobs=1, normalize=False)"
      ]
     },
     "execution_count": 10,
     "metadata": {},
     "output_type": "execute_result"
    }
   ],
   "source": [
    "# Question 5: Fitting the regression model\n",
    "model.fit(pct, lnmedinc)"
   ]
  },
  {
   "cell_type": "code",
   "execution_count": 11,
   "metadata": {},
   "outputs": [
    {
     "data": {
      "text/plain": [
       "array([0.02258908])"
      ]
     },
     "execution_count": 11,
     "metadata": {},
     "output_type": "execute_result"
    }
   ],
   "source": [
    "# Question 5: Regression model parameter: Coefficient of percentage of high school graduates\n",
    "model.coef_"
   ]
  },
  {
   "cell_type": "code",
   "execution_count": 12,
   "metadata": {},
   "outputs": [
    {
     "data": {
      "text/plain": [
       "array([ 50.        ,  51.02040816,  52.04081633,  53.06122449,\n",
       "        54.08163265,  55.10204082,  56.12244898,  57.14285714,\n",
       "        58.16326531,  59.18367347,  60.20408163,  61.2244898 ,\n",
       "        62.24489796,  63.26530612,  64.28571429,  65.30612245,\n",
       "        66.32653061,  67.34693878,  68.36734694,  69.3877551 ,\n",
       "        70.40816327,  71.42857143,  72.44897959,  73.46938776,\n",
       "        74.48979592,  75.51020408,  76.53061224,  77.55102041,\n",
       "        78.57142857,  79.59183673,  80.6122449 ,  81.63265306,\n",
       "        82.65306122,  83.67346939,  84.69387755,  85.71428571,\n",
       "        86.73469388,  87.75510204,  88.7755102 ,  89.79591837,\n",
       "        90.81632653,  91.83673469,  92.85714286,  93.87755102,\n",
       "        94.89795918,  95.91836735,  96.93877551,  97.95918367,\n",
       "        98.97959184, 100.        ])"
      ]
     },
     "execution_count": 12,
     "metadata": {},
     "output_type": "execute_result"
    }
   ],
   "source": [
    "# Question 5: Regression fit: creating the line of best fit\n",
    "\n",
    "# pctHSfit = np.linspace(50, 100, num=100)\n",
    "# pctHSfit"
   ]
  },
  {
   "cell_type": "code",
   "execution_count": 13,
   "metadata": {},
   "outputs": [],
   "source": [
    "# Regression fit: creating the original scatterplot\n",
    "# PCTfit = pctHSfit[:, np.newaxis]\n",
    "# medincfit = model.predict(PCTfit)\n",
    "# plt.scatter(pctHS, lnmedinc)\n",
    "# plt.plot(pctHSfit, medincfit)"
   ]
  },
  {
   "cell_type": "code",
   "execution_count": 14,
   "metadata": {},
   "outputs": [],
   "source": [
    "# Question 6(1): Supervised learning: Creating a random set of inputs\n",
    "pctrandom = np.random.uniform(40,100,100)\n",
    "# QA check: print(pctrandom)"
   ]
  },
  {
   "cell_type": "code",
   "execution_count": 15,
   "metadata": {},
   "outputs": [
    {
     "data": {
      "text/plain": [
       "(100, 1)"
      ]
     },
     "execution_count": 15,
     "metadata": {},
     "output_type": "execute_result"
    }
   ],
   "source": [
    "# Question 6(1): Supervised learning: Creating new feature matrix & target array for new inputs\n",
    "pctr = pctrandom[:, np.newaxis]\n",
    "pctr.shape"
   ]
  },
  {
   "cell_type": "code",
   "execution_count": 16,
   "metadata": {},
   "outputs": [
    {
     "data": {
      "text/plain": [
       "(100,)"
      ]
     },
     "execution_count": 16,
     "metadata": {},
     "output_type": "execute_result"
    }
   ],
   "source": [
    "# Question 6(1): Supervised learning: Creating new feature matrix & target array for new inputs\n",
    "medincpredict = model.predict(pctr)\n",
    "\n",
    "medincpredict.shape\n",
    "# QA check: print(medincpredict)"
   ]
  },
  {
   "cell_type": "code",
   "execution_count": 17,
   "metadata": {},
   "outputs": [
    {
     "data": {
      "text/plain": [
       "array([ 40.        ,  41.2244898 ,  42.44897959,  43.67346939,\n",
       "        44.89795918,  46.12244898,  47.34693878,  48.57142857,\n",
       "        49.79591837,  51.02040816,  52.24489796,  53.46938776,\n",
       "        54.69387755,  55.91836735,  57.14285714,  58.36734694,\n",
       "        59.59183673,  60.81632653,  62.04081633,  63.26530612,\n",
       "        64.48979592,  65.71428571,  66.93877551,  68.16326531,\n",
       "        69.3877551 ,  70.6122449 ,  71.83673469,  73.06122449,\n",
       "        74.28571429,  75.51020408,  76.73469388,  77.95918367,\n",
       "        79.18367347,  80.40816327,  81.63265306,  82.85714286,\n",
       "        84.08163265,  85.30612245,  86.53061224,  87.75510204,\n",
       "        88.97959184,  90.20408163,  91.42857143,  92.65306122,\n",
       "        93.87755102,  95.10204082,  96.32653061,  97.55102041,\n",
       "        98.7755102 , 100.        ])"
      ]
     },
     "execution_count": 17,
     "metadata": {},
     "output_type": "execute_result"
    }
   ],
   "source": [
    "# Question 6(1): Supervised learning: Regression fit 1: Creating the line of best fit\n",
    "pctrfit = np.linspace(40, 100)\n",
    "pctrfit"
   ]
  },
  {
   "cell_type": "code",
   "execution_count": 18,
   "metadata": {},
   "outputs": [
    {
     "data": {
      "text/plain": [
       "[<matplotlib.lines.Line2D at 0x1117a26a0>]"
      ]
     },
     "execution_count": 18,
     "metadata": {},
     "output_type": "execute_result"
    },
    {
     "data": {
      "image/png": "[encoded data removed]",
      "text/plain": [
       "<Figure size 432x288 with 1 Axes>"
      ]
     },
     "metadata": {},
     "output_type": "display_data"
    }
   ],
   "source": [
    "# Question 6(1): Supervised learning: Regression fit 2: Creating the scatterplot of projected outputs from randomized inputs \n",
    "PCTRfit = pctrfit[:, np.newaxis]\n",
    "medfit = model.predict(PCTRfit)\n",
    "plt.scatter(pctrandom, medincpredict)\n",
    "plt.plot(PCTRfit, medfit)"
   ]
  },
  {
   "cell_type": "code",
   "execution_count": 23,
   "metadata": {},
   "outputs": [
    {
     "name": "stdout",
     "output_type": "stream",
     "text": [
      "count    3140.000000\n",
      "mean       85.812452\n",
      "std         6.542260\n",
      "min        48.500000\n",
      "25%        81.700000\n",
      "50%        87.250000\n",
      "75%        90.700000\n",
      "max        98.700000\n",
      "Name: pct_highschool, dtype: float64\n"
     ]
    },
    {
     "data": {
      "text/plain": [
       "array([48.5       , 49.00707071, 49.51414141, 50.02121212, 50.52828283,\n",
       "       51.03535354, 51.54242424, 52.04949495, 52.55656566, 53.06363636,\n",
       "       53.57070707, 54.07777778, 54.58484848, 55.09191919, 55.5989899 ,\n",
       "       56.10606061, 56.61313131, 57.12020202, 57.62727273, 58.13434343,\n",
       "       58.64141414, 59.14848485, 59.65555556, 60.16262626, 60.66969697,\n",
       "       61.17676768, 61.68383838, 62.19090909, 62.6979798 , 63.20505051,\n",
       "       63.71212121, 64.21919192, 64.72626263, 65.23333333, 65.74040404,\n",
       "       66.24747475, 66.75454545, 67.26161616, 67.76868687, 68.27575758,\n",
       "       68.78282828, 69.28989899, 69.7969697 , 70.3040404 , 70.81111111,\n",
       "       71.31818182, 71.82525253, 72.33232323, 72.83939394, 73.34646465,\n",
       "       73.85353535, 74.36060606, 74.86767677, 75.37474747, 75.88181818,\n",
       "       76.38888889, 76.8959596 , 77.4030303 , 77.91010101, 78.41717172,\n",
       "       78.92424242, 79.43131313, 79.93838384, 80.44545455, 80.95252525,\n",
       "       81.45959596, 81.96666667, 82.47373737, 82.98080808, 83.48787879,\n",
       "       83.99494949, 84.5020202 , 85.00909091, 85.51616162, 86.02323232,\n",
       "       86.53030303, 87.03737374, 87.54444444, 88.05151515, 88.55858586,\n",
       "       89.06565657, 89.57272727, 90.07979798, 90.58686869, 91.09393939,\n",
       "       91.6010101 , 92.10808081, 92.61515152, 93.12222222, 93.62929293,\n",
       "       94.13636364, 94.64343434, 95.15050505, 95.65757576, 96.16464646,\n",
       "       96.67171717, 97.17878788, 97.68585859, 98.19292929, 98.7       ])"
      ]
     },
     "execution_count": 23,
     "metadata": {},
     "output_type": "execute_result"
    }
   ],
   "source": [
    "# Question 6(2): Supervised learning: Generating new line-of-fit\n",
    "\n",
    "print(pctHS.describe())\n",
    "pctHSfit = np.linspace(48.5, 98.7, num=100)\n",
    "pctHSfit"
   ]
  },
  {
   "cell_type": "code",
   "execution_count": 22,
   "metadata": {},
   "outputs": [
    {
     "data": {
      "text/plain": [
       "[<matplotlib.lines.Line2D at 0x111871898>]"
      ]
     },
     "execution_count": 22,
     "metadata": {},
     "output_type": "execute_result"
    },
    {
     "data": {
      "image/png": "[encoded data removed]",
      "text/plain": [
       "<Figure size 432x288 with 1 Axes>"
      ]
     },
     "metadata": {},
     "output_type": "display_data"
    }
   ],
   "source": [
    "# Quesetion 6(2): Supervised learning: Creating scatterplot with new line of best fit\n",
    "\n",
    "PCTfit = pctHSfit[:, np.newaxis]\n",
    "medincfit = model.predict(PCTfit)\n",
    "plt.scatter(pctHS, lnmedinc)\n",
    "plt.plot(pctHSfit, medincfit)"
   ]
  },
  {
   "cell_type": "markdown",
   "metadata": {},
   "source": [
    "### An Explanatory Note re: Question 6\n",
    "\n",
    "I was genuinely unclear as to what Question 6 was asking. I wasn't sure whether we were supposed to: generate 100 new values for 'x', predict their y-values, and then plot them; or create a line of best fit using 100 values generated via 'np.linspace' and then superimpose that line over the scatterplot of original data. So, I coded both. I coded the former with the designation '6(1)' in the header notes, and the latter with '6(2)' in the header notes. "
   ]
  }
 ],
 "metadata": {
  "kernelspec": {
   "display_name": "Python 3",
   "language": "python",
   "name": "python3"
  },
  "language_info": {
   "codemirror_mode": {
    "name": "ipython",
    "version": 3
   },
   "file_extension": ".py",
   "mimetype": "text/x-python",
   "name": "python",
   "nbconvert_exporter": "python",
   "pygments_lexer": "ipython3",
   "version": "3.6.5"
  }
 },
 "nbformat": 4,
 "nbformat_minor": 2
}
