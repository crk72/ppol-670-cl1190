{
 "cells": [
  {
   "cell_type": "markdown",
   "metadata": {},
   "source": [
    "## Pathways to Desistance Study\n",
    "\n",
    "The Pathways to Desistance study (\"Pathways study\") was a multi-site study that followed 1,354 serious juvenile offenders, surveying them periodically from adolescence to young adulthood in Arizona and Pennsylvania between 2000 and 2010 (Mulvey, 2010). The surveys conducted covered six primary domains: (1) background characteristics, (2) indicators of individual functioning, (3) psychosocial development and attitudes, (4) family context, (5) personal relationships, and (6) community context (e.g., neighborhood conditions, personal capital, and community involvement). The aims of the study were to identify initial patterns of how serious adolescent offenders stop antisocial activity, to describe the role of social context and developmental changes in promoting these positive changes, and to compare the effects of sanctions and interventions in promoting these changes. (Mulvey, 2010). \n"
   ]
  },
  {
   "cell_type": "markdown",
   "metadata": {},
   "source": [
    "## Pathways to Desistance Data\n",
    "The data collected over the course of the Pathways study is divided into eleven datasets, organized by recall period of the respondents. These datasets are cross-sectional, though given the uniformity of variables across datasets, it is relatively easy to construct time-series data by combining multiple datasets. \n",
    "\n",
    "For the purposes of our showcase, we have decided to evaluate the predictive power of early-onset behavioral issues, exposure to violence, and psychosocial maturity on likelihood of police contact for a given youth. We have decided to use the following variables from the datasets:\n",
    " - *Exposure to violence* (`S#EXPTOT`): Endorsed sum of times respondent was either the victim of or witness to violence.\n",
    " - *Early onset behavioral problems* (`S0NEARPRO`): Total count of early-onset behavioral problems endorsed (e.g., cheating, stealing, being drunk/stoned)\n",
    " - *Psychosocial Maturity* (`S#PSMI`): Mean score of respondant's Psychosocial Maturity Inventory (PSMI Form D; Greenberger, Josselson, Knerr, & Knerr, 1974) \n",
    " - *Police contact with respondent* (`S#PROJUS_PJPOLI`): Binary variable; whether respondent was picked up by police and accused of something in the recall period\n",
    "     - *Police contact with respondent, Number of times* (`S#PROJUS_PJPNUM`): How many times, if any, respondent was picked up by police and accused of something."
   ]
  },
  {
   "cell_type": "code",
   "execution_count": 29,
   "metadata": {},
   "outputs": [
    {
     "data": {
      "text/html": [
       "<div>\n",
       "<style scoped>\n",
       "    .dataframe tbody tr th:only-of-type {\n",
       "        vertical-align: middle;\n",
       "    }\n",
       "\n",
       "    .dataframe tbody tr th {\n",
       "        vertical-align: top;\n",
       "    }\n",
       "\n",
       "    .dataframe thead th {\n",
       "        text-align: right;\n",
       "    }\n",
       "</style>\n",
       "<table border=\"1\" class=\"dataframe\">\n",
       "  <thead>\n",
       "    <tr style=\"text-align: right;\">\n",
       "      <th></th>\n",
       "      <th>SAPROJUS_PJPOLI</th>\n",
       "      <th>SAPROJUS_PJPNUM</th>\n",
       "      <th>SAPSMI</th>\n",
       "      <th>SAEXPTOT</th>\n",
       "      <th>S0NEARPRO</th>\n",
       "    </tr>\n",
       "  </thead>\n",
       "  <tbody>\n",
       "    <tr>\n",
       "      <th>count</th>\n",
       "      <td>1132.000000</td>\n",
       "      <td>254.000000</td>\n",
       "      <td>1129.000000</td>\n",
       "      <td>1131.000000</td>\n",
       "      <td>1354.000000</td>\n",
       "    </tr>\n",
       "    <tr>\n",
       "      <th>mean</th>\n",
       "      <td>0.224382</td>\n",
       "      <td>1.350394</td>\n",
       "      <td>3.284925</td>\n",
       "      <td>1.088417</td>\n",
       "      <td>1.519941</td>\n",
       "    </tr>\n",
       "    <tr>\n",
       "      <th>std</th>\n",
       "      <td>0.417359</td>\n",
       "      <td>1.113721</td>\n",
       "      <td>0.423084</td>\n",
       "      <td>1.665676</td>\n",
       "      <td>1.191235</td>\n",
       "    </tr>\n",
       "    <tr>\n",
       "      <th>min</th>\n",
       "      <td>0.000000</td>\n",
       "      <td>1.000000</td>\n",
       "      <td>1.200000</td>\n",
       "      <td>0.000000</td>\n",
       "      <td>0.000000</td>\n",
       "    </tr>\n",
       "    <tr>\n",
       "      <th>25%</th>\n",
       "      <td>0.000000</td>\n",
       "      <td>1.000000</td>\n",
       "      <td>2.970000</td>\n",
       "      <td>0.000000</td>\n",
       "      <td>1.000000</td>\n",
       "    </tr>\n",
       "    <tr>\n",
       "      <th>50%</th>\n",
       "      <td>0.000000</td>\n",
       "      <td>1.000000</td>\n",
       "      <td>3.300000</td>\n",
       "      <td>0.000000</td>\n",
       "      <td>1.000000</td>\n",
       "    </tr>\n",
       "    <tr>\n",
       "      <th>75%</th>\n",
       "      <td>0.000000</td>\n",
       "      <td>1.000000</td>\n",
       "      <td>3.630000</td>\n",
       "      <td>2.000000</td>\n",
       "      <td>2.000000</td>\n",
       "    </tr>\n",
       "    <tr>\n",
       "      <th>max</th>\n",
       "      <td>1.000000</td>\n",
       "      <td>15.000000</td>\n",
       "      <td>4.000000</td>\n",
       "      <td>10.000000</td>\n",
       "      <td>5.000000</td>\n",
       "    </tr>\n",
       "  </tbody>\n",
       "</table>\n",
       "</div>"
      ],
      "text/plain": [
       "       SAPROJUS_PJPOLI  SAPROJUS_PJPNUM       SAPSMI     SAEXPTOT    S0NEARPRO\n",
       "count      1132.000000       254.000000  1129.000000  1131.000000  1354.000000\n",
       "mean          0.224382         1.350394     3.284925     1.088417     1.519941\n",
       "std           0.417359         1.113721     0.423084     1.665676     1.191235\n",
       "min           0.000000         1.000000     1.200000     0.000000     0.000000\n",
       "25%           0.000000         1.000000     2.970000     0.000000     1.000000\n",
       "50%           0.000000         1.000000     3.300000     0.000000     1.000000\n",
       "75%           0.000000         1.000000     3.630000     2.000000     2.000000\n",
       "max           1.000000        15.000000     4.000000    10.000000     5.000000"
      ]
     },
     "execution_count": 29,
     "metadata": {},
     "output_type": "execute_result"
    }
   ],
   "source": [
    "## Prework: Stage Environment\n",
    "\n",
    "import numpy as np\n",
    "import pandas as pd\n",
    "import graphviz as gv\n",
    "from sklearn.model_selection import cross_val_score, train_test_split\n",
    "import matplotlib.pyplot as plt\n",
    "from sklearn.metrics import accuracy_score\n",
    "import csv\n",
    "\n",
    "## Load Example Dataset\n",
    "filename = '84month.csv'\n",
    "SAmonth = pd.read_csv(filename, na_values = [-202, -201, -101, -700, -300])\n",
    "SAmonth.head()\n",
    "\n",
    "## The na_values indicate the following:\n",
    "##      -202: Partial interview, data missing\n",
    "##      -201: Missed interview\n",
    "##      -101: Not picked up by police during recall period\n",
    "##      -700: Data missing due to bug in interview\n",
    "##      -300: Too few answers for computation \n",
    "\n",
    "\n",
    "SAmetricsonly = SAmonth.drop(['CASEID', 'LINEID'], axis=1)\n",
    "\n",
    "## Descriptive Statistics\n",
    "SAmetricsonly.describe()"
   ]
  },
  {
   "cell_type": "code",
   "execution_count": 40,
   "metadata": {},
   "outputs": [
    {
     "data": {
      "image/png": "[encoded data removed]",
      "text/plain": [
       "<Figure size 432x288 with 1 Axes>"
      ]
     },
     "metadata": {},
     "output_type": "display_data"
    }
   ],
   "source": [
    "## Graph?\n",
    "\n",
    "plt.scatter(SAmonth.SAEXPTOT, SAmonth.SAPROJUS_PJPNUM)\n",
    "plt.xlabel(\"Exposure to Violence\")\n",
    "plt.ylabel(\"Number of Times Picked Up By Police During Recall Period\")\n",
    "plt.show()"
   ]
  },
  {
   "cell_type": "markdown",
   "metadata": {},
   "source": [
    "## Final Project Showcase Proposal\n",
    "As our final submission for the showcase, we plan to draft and present a research report detailing our findings based on applying decision-tree mapping, cluster analysis, and (if appropriate) KNN classification. We intend to create the report in a Jupyter Notebook and present it in class as a slidedeck. For graphical analysis, we intend to use the Python packages `graphviz` and `matplotlib`. However, we are all relatively new to using these tools, and so are not particularly proficient in them."
   ]
  }
 ],
 "metadata": {
  "kernelspec": {
   "display_name": "Python 3",
   "language": "python",
   "name": "python3"
  },
  "language_info": {
   "codemirror_mode": {
    "name": "ipython",
    "version": 3
   },
   "file_extension": ".py",
   "mimetype": "text/x-python",
   "name": "python",
   "nbconvert_exporter": "python",
   "pygments_lexer": "ipython3",
   "version": "3.6.5"
  }
 },
 "nbformat": 4,
 "nbformat_minor": 2
}
