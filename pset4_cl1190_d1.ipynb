{
 "cells": [
  {
   "cell_type": "code",
   "execution_count": 1,
   "metadata": {},
   "outputs": [],
   "source": [
    "# Pre-work: Staging my Environment\n",
    "\n",
    "import numpy as np\n",
    "import pandas as pd\n",
    "import seaborn as sns\n",
    "import matplotlib.pyplot as plt\n",
    "from sklearn.linear_model import LinearRegression"
   ]
  },
  {
   "cell_type": "code",
   "execution_count": 2,
   "metadata": {},
   "outputs": [
    {
     "data": {
      "text/html": [
       "<div>\n",
       "<style scoped>\n",
       "    .dataframe tbody tr th:only-of-type {\n",
       "        vertical-align: middle;\n",
       "    }\n",
       "\n",
       "    .dataframe tbody tr th {\n",
       "        vertical-align: top;\n",
       "    }\n",
       "\n",
       "    .dataframe thead th {\n",
       "        text-align: right;\n",
       "    }\n",
       "</style>\n",
       "<table border=\"1\" class=\"dataframe\">\n",
       "  <thead>\n",
       "    <tr style=\"text-align: right;\">\n",
       "      <th></th>\n",
       "      <th>adult_pop</th>\n",
       "      <th>female_pop</th>\n",
       "      <th>male_pop</th>\n",
       "      <th>median_age</th>\n",
       "      <th>population</th>\n",
       "      <th>pct_poverty</th>\n",
       "      <th>median_income</th>\n",
       "      <th>pct_highschool</th>\n",
       "      <th>pct_unemployed</th>\n",
       "    </tr>\n",
       "    <tr>\n",
       "      <th>fips</th>\n",
       "      <th></th>\n",
       "      <th></th>\n",
       "      <th></th>\n",
       "      <th></th>\n",
       "      <th></th>\n",
       "      <th></th>\n",
       "      <th></th>\n",
       "      <th></th>\n",
       "      <th></th>\n",
       "    </tr>\n",
       "  </thead>\n",
       "  <tbody>\n",
       "    <tr>\n",
       "      <th>1001</th>\n",
       "      <td>41890.0</td>\n",
       "      <td>28422.0</td>\n",
       "      <td>26994.0</td>\n",
       "      <td>38.6</td>\n",
       "      <td>55416.0</td>\n",
       "      <td>13.5</td>\n",
       "      <td>54487.0</td>\n",
       "      <td>87.6</td>\n",
       "      <td>3.4</td>\n",
       "    </tr>\n",
       "    <tr>\n",
       "      <th>1003</th>\n",
       "      <td>163233.0</td>\n",
       "      <td>107322.0</td>\n",
       "      <td>101241.0</td>\n",
       "      <td>42.9</td>\n",
       "      <td>208563.0</td>\n",
       "      <td>11.7</td>\n",
       "      <td>56460.0</td>\n",
       "      <td>90.0</td>\n",
       "      <td>3.7</td>\n",
       "    </tr>\n",
       "    <tr>\n",
       "      <th>1005</th>\n",
       "      <td>20477.0</td>\n",
       "      <td>12186.0</td>\n",
       "      <td>13779.0</td>\n",
       "      <td>40.1</td>\n",
       "      <td>25965.0</td>\n",
       "      <td>29.9</td>\n",
       "      <td>32884.0</td>\n",
       "      <td>73.8</td>\n",
       "      <td>6.2</td>\n",
       "    </tr>\n",
       "    <tr>\n",
       "      <th>1007</th>\n",
       "      <td>17944.0</td>\n",
       "      <td>10498.0</td>\n",
       "      <td>12145.0</td>\n",
       "      <td>39.6</td>\n",
       "      <td>22643.0</td>\n",
       "      <td>20.1</td>\n",
       "      <td>43079.0</td>\n",
       "      <td>80.7</td>\n",
       "      <td>3.5</td>\n",
       "    </tr>\n",
       "    <tr>\n",
       "      <th>1009</th>\n",
       "      <td>44322.0</td>\n",
       "      <td>29206.0</td>\n",
       "      <td>28498.0</td>\n",
       "      <td>41.1</td>\n",
       "      <td>57704.0</td>\n",
       "      <td>14.1</td>\n",
       "      <td>47213.0</td>\n",
       "      <td>80.0</td>\n",
       "      <td>3.0</td>\n",
       "    </tr>\n",
       "  </tbody>\n",
       "</table>\n",
       "</div>"
      ],
      "text/plain": [
       "      adult_pop  female_pop  male_pop  median_age  population  pct_poverty  \\\n",
       "fips                                                                         \n",
       "1001    41890.0     28422.0   26994.0        38.6     55416.0         13.5   \n",
       "1003   163233.0    107322.0  101241.0        42.9    208563.0         11.7   \n",
       "1005    20477.0     12186.0   13779.0        40.1     25965.0         29.9   \n",
       "1007    17944.0     10498.0   12145.0        39.6     22643.0         20.1   \n",
       "1009    44322.0     29206.0   28498.0        41.1     57704.0         14.1   \n",
       "\n",
       "      median_income  pct_highschool  pct_unemployed  \n",
       "fips                                                 \n",
       "1001        54487.0            87.6             3.4  \n",
       "1003        56460.0            90.0             3.7  \n",
       "1005        32884.0            73.8             6.2  \n",
       "1007        43079.0            80.7             3.5  \n",
       "1009        47213.0            80.0             3.0  "
      ]
     },
     "execution_count": 2,
     "metadata": {},
     "output_type": "execute_result"
    }
   ],
   "source": [
    "# Create dataframe object from .csv file\n",
    "\n",
    "cdemo16 = pd.read_csv('county_demographics_2016.csv', sep=',', header=0, index_col=0)\n",
    "\n",
    "# Display first 5 rows of dataframe object\n",
    "cdemo16[0:5]"
   ]
  },
  {
   "cell_type": "code",
   "execution_count": 3,
   "metadata": {},
   "outputs": [],
   "source": [
    "# QA -- Cleaning Data, Missing & Infinite Values\n",
    "\n",
    "# Check for missing values\n",
    "# print(pd.isnull(cdemo16).sum())\n",
    "\n",
    "# Check for infinity\n",
    "# print(np.isfinite(cdemo16).all())\n",
    "\n",
    "# QA Results: Replace infinite values with NaN\n",
    "\n",
    "cdemo16.replace([np.inf, -np.inf], np.nan)\n",
    "\n",
    "# QA Results: Drop missing values/NaN\n",
    "\n",
    "modcdemo16 = cdemo16.dropna()\n",
    "\n",
    "# QA Results: Check New DataFrame\n",
    "# print(pd.isnull(modcdemo16).sum())\n",
    "# print(np.isfinite(modcdemo16).all())"
   ]
  },
  {
   "cell_type": "code",
   "execution_count": 4,
   "metadata": {},
   "outputs": [
    {
     "data": {
      "image/png": "[encoded data removed]",
      "text/plain": [
       "<Figure size 432x288 with 1 Axes>"
      ]
     },
     "metadata": {},
     "output_type": "display_data"
    }
   ],
   "source": [
    "# Data Visualization: Creating scatterplot variables\n",
    "pctHS = modcdemo16.pct_highschool\n",
    "medinc = modcdemo16.median_income\n",
    "\n",
    "# Data Visualization: Creation of scatterplot demonstrating relationship between median income & percentage of high school graduates\n",
    "plt.scatter(pctHS, medinc)\n",
    "plt.xlabel(\"Percentage of High School Graduates\")\n",
    "plt.ylabel(\"Median Income\")\n",
    "plt.show()"
   ]
  },
  {
   "cell_type": "code",
   "execution_count": 5,
   "metadata": {},
   "outputs": [],
   "source": [
    "#Data visualizaton: Create new variable (natural log of median income)\n",
    "lnmedinc = np.log(medinc)"
   ]
  },
  {
   "cell_type": "code",
   "execution_count": 6,
   "metadata": {},
   "outputs": [
    {
     "data": {
      "image/png": "[encoded data removed]",
      "text/plain": [
       "<Figure size 432x288 with 1 Axes>"
      ]
     },
     "metadata": {},
     "output_type": "display_data"
    }
   ],
   "source": [
    "# Creation of new scatterplot\n",
    "plt.scatter(pctHS, lnmedinc)\n",
    "plt.xlabel(\"Percentage of High School Graduates\")\n",
    "plt.ylabel(\"Median Income (natural log)\")\n",
    "plt.show()"
   ]
  },
  {
   "cell_type": "markdown",
   "metadata": {},
   "source": [
    "## Relationship between percentage of high school graduates and median income\n",
    "\n",
    "The transformation of variable 'medinc' to log variable 'lnmedinc' highlights a linear pattern in the relationship between median income and percentage of high school graduates from a given area. The relationship appears to be a positively correlated relationship. Put another way, the relationship is that the median income of a given area is high where the percentage of high school graduates is also high, and low where the percentage is low. "
   ]
  },
  {
   "cell_type": "code",
   "execution_count": 7,
   "metadata": {},
   "outputs": [
    {
     "data": {
      "text/plain": [
       "(3140, 1)"
      ]
     },
     "execution_count": 7,
     "metadata": {},
     "output_type": "execute_result"
    }
   ],
   "source": [
    "#Creating a feature matrix and target array\n",
    "pct = pctHS[:, np.newaxis]\n",
    "pct.shape"
   ]
  },
  {
   "cell_type": "code",
   "execution_count": 8,
   "metadata": {},
   "outputs": [
    {
     "data": {
      "text/plain": [
       "(3140,)"
      ]
     },
     "execution_count": 8,
     "metadata": {},
     "output_type": "execute_result"
    }
   ],
   "source": [
    "lnmedinc.shape"
   ]
  },
  {
   "cell_type": "code",
   "execution_count": 9,
   "metadata": {},
   "outputs": [
    {
     "data": {
      "text/plain": [
       "LinearRegression(copy_X=True, fit_intercept=True, n_jobs=1, normalize=False)"
      ]
     },
     "execution_count": 9,
     "metadata": {},
     "output_type": "execute_result"
    }
   ],
   "source": [
    "#Creating a linear regression model with an intercept\n",
    "model = LinearRegression(fit_intercept=True)\n",
    "model"
   ]
  },
  {
   "cell_type": "code",
   "execution_count": 10,
   "metadata": {},
   "outputs": [
    {
     "data": {
      "text/plain": [
       "LinearRegression(copy_X=True, fit_intercept=True, n_jobs=1, normalize=False)"
      ]
     },
     "execution_count": 10,
     "metadata": {},
     "output_type": "execute_result"
    }
   ],
   "source": [
    "# Fitting the regression model\n",
    "model.fit(pct, lnmedinc)"
   ]
  },
  {
   "cell_type": "code",
   "execution_count": 11,
   "metadata": {},
   "outputs": [
    {
     "data": {
      "text/plain": [
       "array([0.02258908])"
      ]
     },
     "execution_count": 11,
     "metadata": {},
     "output_type": "execute_result"
    }
   ],
   "source": [
    "# Regression model parameter: Coefficient of percentage of high school graduates\n",
    "model.coef_"
   ]
  },
  {
   "cell_type": "code",
   "execution_count": 12,
   "metadata": {},
   "outputs": [
    {
     "data": {
      "text/plain": [
       "array([ 40.        ,  41.2244898 ,  42.44897959,  43.67346939,\n",
       "        44.89795918,  46.12244898,  47.34693878,  48.57142857,\n",
       "        49.79591837,  51.02040816,  52.24489796,  53.46938776,\n",
       "        54.69387755,  55.91836735,  57.14285714,  58.36734694,\n",
       "        59.59183673,  60.81632653,  62.04081633,  63.26530612,\n",
       "        64.48979592,  65.71428571,  66.93877551,  68.16326531,\n",
       "        69.3877551 ,  70.6122449 ,  71.83673469,  73.06122449,\n",
       "        74.28571429,  75.51020408,  76.73469388,  77.95918367,\n",
       "        79.18367347,  80.40816327,  81.63265306,  82.85714286,\n",
       "        84.08163265,  85.30612245,  86.53061224,  87.75510204,\n",
       "        88.97959184,  90.20408163,  91.42857143,  92.65306122,\n",
       "        93.87755102,  95.10204082,  96.32653061,  97.55102041,\n",
       "        98.7755102 , 100.        ])"
      ]
     },
     "execution_count": 12,
     "metadata": {},
     "output_type": "execute_result"
    }
   ],
   "source": [
    "# Regression fit: creating the line of best fit\n",
    "\n",
    "pctHSfit = np.linspace(40, 100)\n",
    "pctHSfit"
   ]
  },
  {
   "cell_type": "code",
   "execution_count": 13,
   "metadata": {},
   "outputs": [],
   "source": [
    "# Regression fit: creating the original scatterplot\n",
    "# PCTfit = pctHSfit[:, np.newaxis]\n",
    "# medincfit = model.predict(PCTfit)\n",
    "# plt.scatter(pctHS, lnmedinc)\n",
    "# plt.plot(pctHSfit, medincfit)"
   ]
  },
  {
   "cell_type": "code",
   "execution_count": 14,
   "metadata": {},
   "outputs": [],
   "source": [
    "# Supervised learning: Creating a random set of inputs\n",
    "pctrandom = np.random.uniform(40,100,100)\n",
    "# QA check: print(pctrandom)"
   ]
  },
  {
   "cell_type": "code",
   "execution_count": 15,
   "metadata": {},
   "outputs": [
    {
     "data": {
      "text/plain": [
       "(100, 1)"
      ]
     },
     "execution_count": 15,
     "metadata": {},
     "output_type": "execute_result"
    }
   ],
   "source": [
    "# Supervised learning: Creating new feature matrix & target array for new inputs\n",
    "pctr = pctrandom[:, np.newaxis]\n",
    "pctr.shape"
   ]
  },
  {
   "cell_type": "code",
   "execution_count": 16,
   "metadata": {},
   "outputs": [
    {
     "data": {
      "text/plain": [
       "(100,)"
      ]
     },
     "execution_count": 16,
     "metadata": {},
     "output_type": "execute_result"
    }
   ],
   "source": [
    "# Supervised learning: Creating new feature matrix & target array for new inputs\n",
    "medincpredict = model.predict(pctr)\n",
    "\n",
    "medincpredict.shape\n",
    "# QA check: print(medincpredict)"
   ]
  },
  {
   "cell_type": "code",
   "execution_count": 17,
   "metadata": {},
   "outputs": [
    {
     "data": {
      "text/plain": [
       "array([ 40.        ,  41.2244898 ,  42.44897959,  43.67346939,\n",
       "        44.89795918,  46.12244898,  47.34693878,  48.57142857,\n",
       "        49.79591837,  51.02040816,  52.24489796,  53.46938776,\n",
       "        54.69387755,  55.91836735,  57.14285714,  58.36734694,\n",
       "        59.59183673,  60.81632653,  62.04081633,  63.26530612,\n",
       "        64.48979592,  65.71428571,  66.93877551,  68.16326531,\n",
       "        69.3877551 ,  70.6122449 ,  71.83673469,  73.06122449,\n",
       "        74.28571429,  75.51020408,  76.73469388,  77.95918367,\n",
       "        79.18367347,  80.40816327,  81.63265306,  82.85714286,\n",
       "        84.08163265,  85.30612245,  86.53061224,  87.75510204,\n",
       "        88.97959184,  90.20408163,  91.42857143,  92.65306122,\n",
       "        93.87755102,  95.10204082,  96.32653061,  97.55102041,\n",
       "        98.7755102 , 100.        ])"
      ]
     },
     "execution_count": 17,
     "metadata": {},
     "output_type": "execute_result"
    }
   ],
   "source": [
    "# Supervised learning: Regression fit 1: Creating the line of best fit\n",
    "pctrfit = np.linspace(40, 100)\n",
    "pctrfit"
   ]
  },
  {
   "cell_type": "code",
   "execution_count": 18,
   "metadata": {},
   "outputs": [
    {
     "data": {
      "text/plain": [
       "[<matplotlib.lines.Line2D at 0x1a21387128>]"
      ]
     },
     "execution_count": 18,
     "metadata": {},
     "output_type": "execute_result"
    },
    {
     "data": {
      "image/png": "[encoded data removed]",
      "text/plain": [
       "<Figure size 432x288 with 1 Axes>"
      ]
     },
     "metadata": {},
     "output_type": "display_data"
    }
   ],
   "source": [
    "# Supervised learning: Regression fit 2: Creating the scatterplot of projected outputs from randomized inputs \n",
    "PCTRfit = pctrfit[:, np.newaxis]\n",
    "medfit = model.predict(PCTRfit)\n",
    "plt.scatter(pctrandom, medincpredict)\n",
    "plt.plot(PCTRfit, medfit)"
   ]
  },
  {
   "cell_type": "code",
   "execution_count": null,
   "metadata": {},
   "outputs": [],
   "source": []
  }
 ],
 "metadata": {
  "kernelspec": {
   "display_name": "Python 3",
   "language": "python",
   "name": "python3"
  },
  "language_info": {
   "codemirror_mode": {
    "name": "ipython",
    "version": 3
   },
   "file_extension": ".py",
   "mimetype": "text/x-python",
   "name": "python",
   "nbconvert_exporter": "python",
   "pygments_lexer": "ipython3",
   "version": "3.6.5"
  }
 },
 "nbformat": 4,
 "nbformat_minor": 2
}
